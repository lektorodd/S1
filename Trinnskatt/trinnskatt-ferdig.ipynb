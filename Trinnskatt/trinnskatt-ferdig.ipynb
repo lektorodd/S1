{
 "cells": [
  {
   "cell_type": "markdown",
   "id": "e0ce77d2-b671-4f6a-aa64-3af77292b75a",
   "metadata": {},
   "source": [
    "# Trinnskatt\n",
    "\n",
    "Digital versjon av deloppgåve 4 i oppgåva *Trinnskatt* i Sinus S1"
   ]
  },
  {
   "cell_type": "markdown",
   "id": "a6d1c61a-99c0-4080-b16b-2ce9c225bb99",
   "metadata": {},
   "source": [
    "I 2021 brukte me grensene i tabellen nedanfor til å rekna ut trinnskatt. Trinnskatten rundar me ned til næraste krone. "
   ]
  },
  {
   "cell_type": "markdown",
   "id": "2e94ab96-e6c3-40e2-9515-abca1877ba03",
   "metadata": {},
   "source": [
    "|Grenser|Skatt|\n",
    "|:-----|:-----:|\n",
    "|Del av inntekt under 184 800 kr | 0 % |\n",
    "|Del av inntekt mellom 184 800 kr og 260 100 kr | 1,7 % |\n",
    "|Del av inntekt mellom 260 100 kr og 652 250 kr | 4,0 % |\n",
    "|Del av inntekt mellom 652 250 kr og 1 021 550 kr | 13,2 % |\n",
    "|Del av inntekt over 1 021 550 kr | 16,2 % |"
   ]
  },
  {
   "cell_type": "markdown",
   "id": "be54867a-7c98-48af-a33c-911195ef4fc7",
   "metadata": {},
   "source": [
    "## Oppgåve 4\n",
    "\n",
    "Her skal me laga eit Python-program som reknar ut trinnskatten. Du får bruk for uttrykka frå oppgåve 2. Programmet skal laga fin utskrift og i tillegg skriva ut kor mange prosent trinnskatten er av inntekta. Her er deler av eit slikt program:"
   ]
  },
  {
   "cell_type": "code",
   "execution_count": 11,
   "id": "ffd6af5f-15df-4172-ac45-ab4e570e478c",
   "metadata": {},
   "outputs": [
    {
     "name": "stdin",
     "output_type": "stream",
     "text": [
      "Oppgje inntekt i kroner: 800000\n"
     ]
    },
    {
     "name": "stdout",
     "output_type": "stream",
     "text": [
      "Du må betala 36469 kr i trinnskatt.\n"
     ]
    }
   ],
   "source": [
    "inntekt = float(input(\"Oppgje inntekt i kroner:\"))\n",
    "\n",
    "grense_1 = 184800\n",
    "grense_2 = 260100\n",
    "grense_3 = 652250\n",
    "grense_4 = 1021550\n",
    "\n",
    "skatt_1 = 0.017\n",
    "skatt_2 = 0.040\n",
    "skatt_3 = 0.132\n",
    "skatt_4 = 0.162\n",
    "\n",
    "if inntekt < grense_1:\n",
    "    trinnskatt = 0\n",
    "elif inntekt < grense_2: \n",
    "    trinnskatt = (inntekt - grense_1) * skatt_1\n",
    "elif inntekt < grense_3:\n",
    "    trinnskatt = 1280.1 + (inntekt - grense_2) * skatt_2\n",
    "elif inntekt < grense_4:\n",
    "    trinnskatt = 1280.1 + 15686 + (inntekt - grense_3) * skatt_3\n",
    "else:\n",
    "    trinnskatt = 1280.1 + 15686 + 48747.6 + (inntekt - grense_4) * skatt_4\n",
    "\n",
    "trinnskatt = int(trinnskatt)\n",
    "\n",
    "# Finn trinnskatten som prosentdel av inntekt\n",
    "prosent = trinnskatt / inntekt * 100\n",
    "prosent = round(prosent, 1) # 1 desimal\n",
    "\n",
    "print(\"Du må betala\", trinnskatt, \"kr i trinnskatt.\")"
   ]
  },
  {
   "cell_type": "markdown",
   "id": "a0de6ee9-2002-449e-871c-2303a9a572f9",
   "metadata": {},
   "source": [
    "Prøv programmet på inntektene i oppgåve 1. Stemmer utrekningane? \n",
    "\n",
    "### Alternativ som er lettare å holda oppdate. \n",
    "\n",
    "På den måten er det nok å endra trinngrenser og satsar for at programmet skal vera oppdatert."
   ]
  },
  {
   "cell_type": "code",
   "execution_count": 14,
   "id": "64620a3c-93d2-4803-b568-6ddb7eef0d23",
   "metadata": {},
   "outputs": [
    {
     "name": "stdin",
     "output_type": "stream",
     "text": [
      "Oppgje inntekt i kroner: 2000000\n"
     ]
    },
    {
     "name": "stdout",
     "output_type": "stream",
     "text": [
      "Du må betala 224222 kr i trinnskatt.\n",
      "Trinnskatten utgjer 11.2 % av inntekta di.\n"
     ]
    }
   ],
   "source": [
    "inntekt = float(input(\"Oppgje inntekt i kroner:\"))\n",
    "\n",
    "# Trinngrensene (i kr)\n",
    "grense_1 = 184800\n",
    "grense_2 = 260100\n",
    "grense_3 = 652250\n",
    "grense_4 = 1021550\n",
    "\n",
    "# Prosentsatsar for skattetrinn\n",
    "skatt_1 = 0.017\n",
    "skatt_2 = 0.040\n",
    "skatt_3 = 0.132\n",
    "skatt_4 = 0.162\n",
    "\n",
    "# Reknar ut total skatt for dei \"fulle\" trinna\n",
    "trinn_1 = (grense_2 - grense_1) * skatt_1\n",
    "trinn_2 = trinn_1 + (grense_3 - grense_2) * skatt_2\n",
    "trinn_3 = trinn_2 + (grense_4 - grense_3) * skatt_3\n",
    "\n",
    "# Reknar ut samla trinnskatt\n",
    "if inntekt < grense_1:\n",
    "    trinnskatt = 0\n",
    "elif inntekt < grense_2: \n",
    "    trinnskatt = (inntekt - grense_1) * skatt_1\n",
    "elif inntekt < grense_3:\n",
    "    trinnskatt = trinn_1 + (inntekt - grense_2) * skatt_2\n",
    "elif inntekt < grense_4:\n",
    "    trinnskatt = trinn_2 + (inntekt - grense_3) * skatt_3\n",
    "else:\n",
    "    trinnskatt = trinn_3 + (inntekt - grense_4) * skatt_4\n",
    "\n",
    "# Runder ned (gjer om til heiltal)\n",
    "trinnskatt = int(trinnskatt)\n",
    "\n",
    "# Finn trinnskatten som prosentdel av inntekt\n",
    "prosent = trinnskatt / inntekt * 100\n",
    "prosent = round(prosent, 1) # 1 desimal\n",
    "\n",
    "# Skriv ut resultata\n",
    "print(\"Du må betala\", trinnskatt, \"kr i trinnskatt.\")\n",
    "print(\"Trinnskatten utgjer\", prosent, \"% av inntekta di.\")"
   ]
  },
  {
   "cell_type": "code",
   "execution_count": null,
   "id": "5cedd440-1559-428d-a284-23b8c407cf9e",
   "metadata": {},
   "outputs": [],
   "source": []
  }
 ],
 "metadata": {
  "kernelspec": {
   "display_name": "Python 3 (ipykernel)",
   "language": "python",
   "name": "python3"
  },
  "language_info": {
   "codemirror_mode": {
    "name": "ipython",
    "version": 3
   },
   "file_extension": ".py",
   "mimetype": "text/x-python",
   "name": "python",
   "nbconvert_exporter": "python",
   "pygments_lexer": "ipython3",
   "version": "3.8.12"
  }
 },
 "nbformat": 4,
 "nbformat_minor": 5
}
