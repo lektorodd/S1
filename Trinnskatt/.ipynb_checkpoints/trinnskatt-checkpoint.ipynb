{
 "cells": [
  {
   "cell_type": "markdown",
   "id": "e0ce77d2-b671-4f6a-aa64-3af77292b75a",
   "metadata": {},
   "source": [
    "# Trinnskatt\n",
    "\n",
    "Digital versjon av deloppgåve 4 i oppgåva *Trinnskatt* i Sinus S1"
   ]
  },
  {
   "cell_type": "markdown",
   "id": "a6d1c61a-99c0-4080-b16b-2ce9c225bb99",
   "metadata": {},
   "source": [
    "I 2021 brukte me grensene i tabellen nedanfor til å rekna ut trinnskatt. Trinnskatten rundar me ned til næraste krone. "
   ]
  },
  {
   "cell_type": "markdown",
   "id": "2e94ab96-e6c3-40e2-9515-abca1877ba03",
   "metadata": {},
   "source": [
    "|Grenser|Skatt|\n",
    "|:-----|:-----:|\n",
    "|Del av inntekt under 184 800 kr | 0 % |\n",
    "|Del av inntekt mellom 184 800 kr og 260 100 kr | 1,7 % |\n",
    "|Del av inntekt mellom 260 100 kr og 652 250 kr | 4,0 % |\n",
    "|Del av inntekt mellom 652 250 kr og 1 021 550 kr | 13,2 % |\n",
    "|Del av inntekt over 1 021 550 kr | 16,2 % |"
   ]
  },
  {
   "cell_type": "markdown",
   "id": "be54867a-7c98-48af-a33c-911195ef4fc7",
   "metadata": {},
   "source": [
    "## Oppgåve 4\n",
    "\n",
    "Her skal me laga eit Python-program som reknar ut trinnskatten. Du får bruk for uttrykka frå oppgåve 2. Programmet skal laga fin utskrift og i tillegg skriva ut kor mange prosent trinnskatten er av inntekta. Her er deler av eit slikt program:"
   ]
  },
  {
   "cell_type": "code",
   "execution_count": null,
   "id": "ffd6af5f-15df-4172-ac45-ab4e570e478c",
   "metadata": {},
   "outputs": [],
   "source": [
    "inntekt = float(input(\"Oppgje inntekt i kroner:\"))\n",
    "\n",
    "grense_1 = 184800\n",
    "grense_2 = 260100\n",
    "... # Her manglar det kode\n",
    "... # Her manglar det kode\n",
    "\n",
    "skatt_1 = 0.017\n",
    "... # Her manglar det kode\n",
    "... # Her manglar det kode\n",
    "\n",
    "if inntekt < grense_1:\n",
    "    trinnskatt = 0\n",
    "elif inntekt < grense_2: \n",
    "    trinnskatt = (inntekt - grense_1) * skatt_1\n",
    "elif ... # Her manglar det fleire linjer med kode"
   ]
  },
  {
   "cell_type": "markdown",
   "id": "a0de6ee9-2002-449e-871c-2303a9a572f9",
   "metadata": {},
   "source": [
    "Prøv programmet på inntektene i oppgåve 1. Stemmer utrekningane? "
   ]
  }
 ],
 "metadata": {
  "kernelspec": {
   "display_name": "Python 3 (ipykernel)",
   "language": "python",
   "name": "python3"
  },
  "language_info": {
   "codemirror_mode": {
    "name": "ipython",
    "version": 3
   },
   "file_extension": ".py",
   "mimetype": "text/x-python",
   "name": "python",
   "nbconvert_exporter": "python",
   "pygments_lexer": "ipython3",
   "version": "3.8.11"
  }
 },
 "nbformat": 4,
 "nbformat_minor": 5
}
