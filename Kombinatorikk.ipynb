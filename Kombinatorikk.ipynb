{
 "cells": [
  {
   "cell_type": "markdown",
   "id": "a379aba1-203a-4856-861d-088ad45ae492",
   "metadata": {},
   "source": [
    "# Kombinatorikk"
   ]
  },
  {
   "cell_type": "markdown",
   "id": "27e326c4-97e2-4836-bffb-52d9d07d19fd",
   "metadata": {
    "tags": []
   },
   "source": [
    "## Ordna utval med tilbakelegging. \n",
    "\n",
    "Trekk eit utval på $r$ element på ein populasjon på $n$.\n",
    "\n",
    "Moglege kombinasjonar er då $$ n\\cdot n \\cdot n \\cdot \\ldots \\cdot n = n^r $$\n",
    "\n",
    "**Ordna utval:** rekkefølgen er viktig <br>\n",
    "**Med tilbakelegging:** kvart element i populasjonen kan trekkast fleire gongar. "
   ]
  },
  {
   "cell_type": "code",
   "execution_count": 8,
   "id": "4404547d-0477-430d-acb2-85bb7e9e8d52",
   "metadata": {},
   "outputs": [
    {
     "name": "stdin",
     "output_type": "stream",
     "text": [
      "Kor stor er populasjonen? n =  4\n",
      "Kor stort er utvalet? r =  3\n"
     ]
    },
    {
     "name": "stdout",
     "output_type": "stream",
     "text": [
      "Det er 64 moglege kombinasjonar.\n"
     ]
    }
   ],
   "source": [
    "n = int(input(\"Kor stor er populasjonen? n = \"))\n",
    "r = int(input(\"Kor stort er utvalet? r = \"))\n",
    "\n",
    "komb = n**r\n",
    "    \n",
    "print(\"Det er\",komb, \"moglege kombinasjonar.\")"
   ]
  },
  {
   "cell_type": "markdown",
   "id": "01af091f-b998-4728-b634-a0c8d454a029",
   "metadata": {
    "tags": []
   },
   "source": [
    "## Ordna utval utan tilbakelegging. \n",
    "\n",
    "Trekk eit utval på $r$ element på ein populasjon på $n$. \n",
    "\n",
    "Moglege kombinasjonar er då $$ _n P _r  = n\\cdot (n-1) \\cdot (n-2) \\cdot \\ldots \\cdot (n-r+1)$$\n",
    "\n",
    "**Ordna utval:** rekkefølgen er viktig <br>\n",
    "**Utan tilbakelegging:** når eit element er trekt kan det ikkje trekkast igjen"
   ]
  },
  {
   "cell_type": "code",
   "execution_count": 10,
   "id": "d9a879b1-c808-4c10-bce3-6416f4de9577",
   "metadata": {},
   "outputs": [
    {
     "name": "stdin",
     "output_type": "stream",
     "text": [
      "Kor stor er populasjonen? n =  25\n",
      "Kor stort er utvalet? r =  20\n"
     ]
    },
    {
     "name": "stdout",
     "output_type": "stream",
     "text": [
      "Det er 129260083694424883200000 moglege kombinasjonar.\n"
     ]
    }
   ],
   "source": [
    "n = int(input(\"Kor stor er populasjonen? n = \"))\n",
    "r = int(input(\"Kor stort er utvalet? r = \"))\n",
    "\n",
    "komb = 1\n",
    "\n",
    "for i in range(r):\n",
    "    komb *= (n-i)\n",
    "    \n",
    "print(\"Det er\",komb, \"moglege kombinasjonar.\")"
   ]
  },
  {
   "cell_type": "markdown",
   "id": "5151ca4a-375c-4975-a217-df9bc8bfaab2",
   "metadata": {},
   "source": [
    "### Fakultet \n",
    "\n",
    "Når $n = r$ når me ser på ordna utval utan tilbakelegging gjer me eit utval som er like stort som populasjonen. I praksis vil det då bli kor mange forskjellige måtar me kan ordna populasjonen. \n",
    "\n",
    "Trekk eit utval på $n$ element på ein populasjon på $n$. \n",
    "\n",
    "Moglege kombinasjonar er då $$ _n P _n  = n\\cdot (n-1) \\cdot (n-2) \\cdot \\ldots \\cdot 2\\cdot 1$$\n",
    "\n",
    "Dermed får me $$ _n P _n = n! = 1 \\cdot 2 \\cdot \\ldots \\cdot (n-2)\\cdot (n-1) \\cdot n $$\n",
    "\n",
    "$n!$ les me som _n fakultet_ og er produktet av alle dei naturlege tala frå og med $1$ til og med $n$"
   ]
  },
  {
   "cell_type": "code",
   "execution_count": 13,
   "id": "85cdbfa3-af29-45b9-987b-e4f3887fc168",
   "metadata": {},
   "outputs": [
    {
     "name": "stdin",
     "output_type": "stream",
     "text": [
      "Kor stor er populasjonen? n =  10\n"
     ]
    },
    {
     "name": "stdout",
     "output_type": "stream",
     "text": [
      "Dei 10 elementa kan orndast på 3628800 måtar.\n"
     ]
    }
   ],
   "source": [
    "n = int(input(\"Kor stor er populasjonen? n = \"))\n",
    "\n",
    "komb = 1\n",
    "for i in range(n):\n",
    "    komb *= (n-i)\n",
    "    \n",
    "print(\"Dei\", n, \"elementa kan orndast på\", komb, \"måtar.\")"
   ]
  }
 ],
 "metadata": {
  "kernelspec": {
   "display_name": "Python 3 (ipykernel)",
   "language": "python",
   "name": "python3"
  },
  "language_info": {
   "codemirror_mode": {
    "name": "ipython",
    "version": 3
   },
   "file_extension": ".py",
   "mimetype": "text/x-python",
   "name": "python",
   "nbconvert_exporter": "python",
   "pygments_lexer": "ipython3",
   "version": "3.8.12"
  }
 },
 "nbformat": 4,
 "nbformat_minor": 5
}
