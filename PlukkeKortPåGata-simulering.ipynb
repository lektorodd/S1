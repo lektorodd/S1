{
 "cells": [
  {
   "cell_type": "markdown",
   "id": "545b42d4-1591-4ab0-86ba-439562024df7",
   "metadata": {},
   "source": [
    "# Kort på gata\n",
    "Sett at du finn eitt og eitt spelekort på gata. Kor mange kort må du finna før du har ein tilfeldig kortstokk? \n",
    "Forsøk på simulering av problemet. "
   ]
  },
  {
   "cell_type": "markdown",
   "id": "86aedf27-83d3-460d-9f43-e70ba4d260ea",
   "metadata": {},
   "source": [
    "## Trekke kort til ein har ein fullstendig kortstokk\n",
    "Det første me må laga er ei simulering som trekk eitt og eitt kort heilt til me har ein full kortstokk. Me må og ha kontroll på kor mange kort me har trekt.\n",
    "\n",
    "### Trekke tilfeldig kort:"
   ]
  },
  {
   "cell_type": "code",
   "execution_count": 2,
   "id": "5ec6f7b6-8a80-4834-8b5d-0908d205716b",
   "metadata": {},
   "outputs": [
    {
     "data": {
      "text/plain": [
       "4"
      ]
     },
     "execution_count": 2,
     "metadata": {},
     "output_type": "execute_result"
    }
   ],
   "source": [
    "import random\n",
    "\n",
    "random.randint(1,52)\n",
    "\n",
    "x = [1, 2, 3, 4]\n",
    "len(x)"
   ]
  },
  {
   "cell_type": "code",
   "execution_count": 5,
   "id": "163dab48-ab10-4db8-ad62-5f098a2dd8f0",
   "metadata": {},
   "outputs": [],
   "source": [
    "trekt = []\n",
    "\n",
    "while len(trekt) < 52:\n",
    "    kort = random.randint(1,52)\n",
    "    \n",
    "    if kort not in trekt:\n",
    "        trekt.append(kort)"
   ]
  },
  {
   "cell_type": "markdown",
   "id": "98a2427f-6b69-42f6-8029-5b4bc2ab03d6",
   "metadata": {},
   "source": [
    "### Trekke tilfeldig kort - funksjon\n",
    "Lage ein \"trekke tilfeldig kort til full kortstokk\"-funksjon sånn at me enkelt kan gjenta forsøket mange gongar. "
   ]
  },
  {
   "cell_type": "code",
   "execution_count": 6,
   "id": "911062da-e667-43c0-9a8f-9ca957645db9",
   "metadata": {},
   "outputs": [],
   "source": [
    "def trekkeKort():\n",
    "    trekt = []\n",
    "    kortnr = 0\n",
    "    \n",
    "    while len(trekt) < 52:\n",
    "        kort = random.randint(1,52)\n",
    "        \n",
    "        kortnr += 1\n",
    "        \n",
    "        if kort not in trekt:\n",
    "            trekt.append(kort)\n",
    "    \n",
    "    return kortnr"
   ]
  },
  {
   "cell_type": "code",
   "execution_count": 13,
   "id": "e254aabb-b28f-49fa-93a5-87ef8547fac1",
   "metadata": {},
   "outputs": [
    {
     "name": "stdout",
     "output_type": "stream",
     "text": [
      "170\n"
     ]
    }
   ],
   "source": [
    "print(trekkeKort())"
   ]
  },
  {
   "cell_type": "markdown",
   "id": "b08a6edf-9dca-4e7a-8e50-545ab8f1ae53",
   "metadata": {},
   "source": [
    "### Rekne ut snitt etter fleire forsøk\n",
    "\n",
    "Me er interessert i å sjå om antall kort ein må trekkja stabiliserer seg rundt eit tal, dersom me repeterer forsøket mange gongar:"
   ]
  },
  {
   "cell_type": "code",
   "execution_count": 37,
   "id": "70e0c470-ca8d-45e6-b5ac-e78b25076815",
   "metadata": {},
   "outputs": [
    {
     "name": "stdout",
     "output_type": "stream",
     "text": [
      "Gjennomsnitt: 236.4646\n",
      "Kortaste tur: 105\n",
      "Lengste tur: 783\n"
     ]
    }
   ],
   "source": [
    "import numpy as np\n",
    "\n",
    "A = []\n",
    "forsøk = 10000\n",
    "\n",
    "for i in range(forsøk):\n",
    "    A.append(trekkeKort())\n",
    "\n",
    "A = np.array(A)\n",
    "print(\"Gjennomsnitt:\", A.mean())\n",
    "print(\"Kortaste tur:\", A.min())\n",
    "print(\"Lengste tur:\", A.max())"
   ]
  },
  {
   "cell_type": "markdown",
   "id": "203c4024-82fc-484e-a017-64e5d5556a4e",
   "metadata": {},
   "source": [
    "### Plotting \n",
    "\n",
    "Reknar ut gjennomsnittet etter N forsøk og plottar gjennomsnittet opp mot antall forsøk."
   ]
  },
  {
   "cell_type": "code",
   "execution_count": 49,
   "id": "c33df83a-d983-445f-9a52-a37d9fd72eed",
   "metadata": {},
   "outputs": [
    {
     "data": {
      "image/png": "[encoded data removed]",
      "text/plain": [
       "<Figure size 720x360 with 1 Axes>"
      ]
     },
     "metadata": {
      "needs_background": "light"
     },
     "output_type": "display_data"
    },
    {
     "name": "stdout",
     "output_type": "stream",
     "text": [
      "Gjennomsnitt: 236.4646\n",
      "Kortaste tur: 105\n",
      "Lengste tur: 783\n"
     ]
    }
   ],
   "source": [
    "N = np.arange(1, forsøk + 1)\n",
    "n = A.cumsum()\n",
    "n = n/N\n",
    "\n",
    "import matplotlib.pyplot as plt\n",
    "\n",
    "plt.figure(figsize=(10,5))\n",
    "plt.hlines(235.978, 0, forsøk, \"r\") # teoretisk sannsyn\n",
    "plt.plot(N, n)\n",
    "plt.xlabel(\"Antall forsøk\", fontsize = 14)\n",
    "plt.ylabel(\"Gjennomsnitt\", fontsize = 14)\n",
    "plt.title(\"Trekke kort på gata\", fontsize = 20)\n",
    "plt.show()\n",
    "\n",
    "print(\"Gjennomsnitt:\", A.mean())\n",
    "print(\"Kortaste tur:\", A.min())\n",
    "print(\"Lengste tur:\", A.max())"
   ]
  },
  {
   "cell_type": "code",
   "execution_count": null,
   "id": "09d05716-910a-44bf-b321-9bd720c20e36",
   "metadata": {},
   "outputs": [],
   "source": []
  }
 ],
 "metadata": {
  "kernelspec": {
   "display_name": "Python 3 (ipykernel)",
   "language": "python",
   "name": "python3"
  },
  "language_info": {
   "codemirror_mode": {
    "name": "ipython",
    "version": 3
   },
   "file_extension": ".py",
   "mimetype": "text/x-python",
   "name": "python",
   "nbconvert_exporter": "python",
   "pygments_lexer": "ipython3",
   "version": "3.8.12"
  }
 },
 "nbformat": 4,
 "nbformat_minor": 5
}
