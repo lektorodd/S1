{
 "cells": [
  {
   "cell_type": "markdown",
   "id": "1019d8a8-77cc-41ed-9747-324bde45b676",
   "metadata": {},
   "source": [
    "# Eksamen S1-V21 - Del 2, oppgåve 1\n",
    "\n",
    "Her er eit døme på korleis denne eksamensoppgåva kan løysast med simulering. I tillegg er oppgåve c) løyst utan simulering. \n",
    "\n",
    "#### Oppgåvetekst:\n",
    "\n",
    "I tillegg til statsministeren er det 19 ministrar i regjeringa. Av desse 20 er 12 \n",
    "medlemmer i Høgre, 4 er medlemmer i Venstre, og 4 er medlemmer i Kristeleg \n",
    "Folkeparti. \n",
    "\n",
    "Ved eit arrangement er det bestemt at 6 av ministrane skal vere til stades. Desse blir \n",
    "tilfeldig trekte blant de 20 ministrane. "
   ]
  },
  {
   "cell_type": "code",
   "execution_count": 1,
   "id": "a185154b-88c8-46f0-8db5-be3c4864e3df",
   "metadata": {},
   "outputs": [],
   "source": [
    "import numpy as np\n",
    "\n",
    "HØGRE = 12\n",
    "VENSTRE = 4\n",
    "KRF = 4\n",
    "\n",
    "UTVAL = 6\n",
    "\n",
    "N = 1000000"
   ]
  },
  {
   "cell_type": "markdown",
   "id": "1db509e9-d705-454a-a606-4c9883e67459",
   "metadata": {},
   "source": [
    "## a)\n",
    "\n",
    "Kva er sannsynet for at alle dei 6 som blir trekte ut, er frå Høgre?"
   ]
  },
  {
   "cell_type": "code",
   "execution_count": 2,
   "id": "5d12504c-196e-4c4e-8838-552723084aec",
   "metadata": {},
   "outputs": [
    {
     "name": "stdout",
     "output_type": "stream",
     "text": [
      "Sannsynet for at alle som vert trekt ut er frå Høgre er 0.024\n"
     ]
    }
   ],
   "source": [
    "# SIMULERING med numpy (variant 1)\n",
    "\n",
    "ngood = HØGRE\n",
    "nbad = VENSTRE + KRF\n",
    "\n",
    "trekk = []\n",
    "\n",
    "for i in range(N):\n",
    "    trekk.append(np.random.hypergeometric(ngood, nbad, UTVAL))\n",
    "           \n",
    "trekk = np.array(trekk)\n",
    "sannsyn = sum(trekk == 6)/N\n",
    "\n",
    "print(\"Sannsynet for at alle som vert trekt ut er frå Høgre er\", round(sannsyn, 3))"
   ]
  },
  {
   "cell_type": "code",
   "execution_count": 3,
   "id": "eb810cf3-3f29-44be-a8a0-8ba5bb8fd04e",
   "metadata": {},
   "outputs": [
    {
     "name": "stdout",
     "output_type": "stream",
     "text": [
      "Sannsynet for at alle som vert trekt ut er frå Høgre er 0.024\n"
     ]
    }
   ],
   "source": [
    "# SIMULERING med numpy (variant 2)\n",
    "\n",
    "ngood = HØGRE\n",
    "nbad = VENSTRE + KRF\n",
    "\n",
    "alle = 0\n",
    "\n",
    "for i in range(N):\n",
    "    trekk = (np.random.hypergeometric(ngood, nbad, UTVAL))\n",
    "    if trekk == 6:\n",
    "        alle += 1\n",
    "\n",
    "sannsyn = alle/N\n",
    "\n",
    "print(\"Sannsynet for at alle som vert trekt ut er frå Høgre er\", round(sannsyn, 3))"
   ]
  },
  {
   "cell_type": "markdown",
   "id": "5f2fc3d1-fd8b-4903-8c7a-cd4e9f5c3a2d",
   "metadata": {},
   "source": [
    "## b)\n",
    "\n",
    "Bestem sannsynet for at statsministeren er blant dei som blir trekte ut."
   ]
  },
  {
   "cell_type": "code",
   "execution_count": 4,
   "id": "daa504a7-ae0e-4347-b7c6-97d240f16519",
   "metadata": {},
   "outputs": [
    {
     "name": "stdout",
     "output_type": "stream",
     "text": [
      "Sannsynet for at statsministeren er i utvalet er 0.301\n"
     ]
    }
   ],
   "source": [
    "ngood = 1\n",
    "nbad = (HØGRE - 1) + VENSTRE + KRF\n",
    "\n",
    "erna = 0\n",
    "\n",
    "for i in range(N):\n",
    "    trekk = (np.random.hypergeometric(ngood, nbad, UTVAL))\n",
    "    if trekk == 1:\n",
    "        erna += 1\n",
    "\n",
    "sannsyn = erna / N\n",
    "\n",
    "print(\"Sannsynet for at statsministeren er i utvalet er\", round(sannsyn, 3))"
   ]
  },
  {
   "cell_type": "markdown",
   "id": "106b3d6a-212f-4f96-a5a7-8315c6619381",
   "metadata": {},
   "source": [
    "## c)\n",
    "\n",
    "Bestem sannsynet for at 2 frå Høgre, 2 frå Venstre og 2 frå Kristeleg Folkeparti \n",
    "blir trekte ut. \n",
    "\n",
    "### Variant 1 - simulering\n",
    "\n",
    "Brukar ein `multivariate_hypergeometric` generator"
   ]
  },
  {
   "cell_type": "code",
   "execution_count": 5,
   "id": "4f2b74e6-bfcb-48a2-bf23-8c3cb29aea3e",
   "metadata": {},
   "outputs": [
    {
     "name": "stdout",
     "output_type": "stream",
     "text": [
      "Sannsynet for at det vert trekt to ministrar frå kvart av dei tre partia er 0.061\n"
     ]
    }
   ],
   "source": [
    "# VARIANT 1 - multivariate_hypergemetric - generator\n",
    "ministrar = [12, 4, 4]\n",
    "\n",
    "rng = np.random.default_rng()\n",
    "\n",
    "to_frå_kvar = 0\n",
    "\n",
    "for i in range(N):\n",
    "    trekk = rng.multivariate_hypergeometric(ministrar, 6)\n",
    "    sjekk = (trekk == [2, 2, 2])\n",
    "    \n",
    "    if sjekk.all():\n",
    "        to_frå_kvar += 1\n",
    "\n",
    "sannsyn = to_frå_kvar / N\n",
    "        \n",
    "print(\"Sannsynet for at det vert trekt to ministrar frå kvart av dei tre partia er\", round(sannsyn, 3))"
   ]
  },
  {
   "cell_type": "markdown",
   "id": "0a18074f-f059-4427-9671-9dfbf0f7430c",
   "metadata": {},
   "source": [
    "### Variant 2 - formelbasert \n",
    "\n",
    "Brukar formelen for hypergeometrisk sannsyn (med fleire variablar)\n",
    "\n",
    "$$\\frac{ \\left( 12 \\atop 2 \\right) \\left( 4 \\atop 2 \\right) \\left( 4 \\atop 2 \\right)}{\\left( 20 \\atop 6 \\right)} $$\n",
    "\n"
   ]
  },
  {
   "cell_type": "code",
   "execution_count": 6,
   "id": "391d32db-2987-406d-bb25-a17a05530fa3",
   "metadata": {},
   "outputs": [
    {
     "name": "stdout",
     "output_type": "stream",
     "text": [
      "Sannsynet for at det vert trekt to ministrar frå kvart av dei tre partia er 0.061\n"
     ]
    }
   ],
   "source": [
    "import scipy.special as sc\n",
    "\n",
    "sannsyn = (sc.comb(12,2)*sc.comb(4,2)**2)/(sc.comb(20,6))\n",
    "\n",
    "print(\"Sannsynet for at det vert trekt to ministrar frå kvart av dei tre partia er\", round(sannsyn, 3))"
   ]
  },
  {
   "cell_type": "code",
   "execution_count": 7,
   "id": "9015a427-cab4-4623-ad91-3cce66011c50",
   "metadata": {},
   "outputs": [
    {
     "name": "stdout",
     "output_type": "stream",
     "text": [
      "Sannsynet for at det vert trekt to ministrar frå kvart av dei tre partia er 0.061\n"
     ]
    }
   ],
   "source": [
    "# litt mindre komprimert variant:\n",
    "\n",
    "binom_H = sc.comb(HØGRE, 2)\n",
    "binom_V = sc.comb(VENSTRE, 2)\n",
    "binom_KrF = binom_V\n",
    "\n",
    "binom_alle = sc.comb((HØGRE+VENSTRE+KRF), UTVAL)\n",
    "\n",
    "sannsyn2 = (binom_H * binom_V * binom_KrF) / binom_alle\n",
    "\n",
    "print(\"Sannsynet for at det vert trekt to ministrar frå kvart av dei tre partia er\", round(sannsyn2, 3))"
   ]
  }
 ],
 "metadata": {
  "kernelspec": {
   "display_name": "Python 3 (ipykernel)",
   "language": "python",
   "name": "python3"
  },
  "language_info": {
   "codemirror_mode": {
    "name": "ipython",
    "version": 3
   },
   "file_extension": ".py",
   "mimetype": "text/x-python",
   "name": "python",
   "nbconvert_exporter": "python",
   "pygments_lexer": "ipython3",
   "version": "3.8.12"
  }
 },
 "nbformat": 4,
 "nbformat_minor": 5
}
