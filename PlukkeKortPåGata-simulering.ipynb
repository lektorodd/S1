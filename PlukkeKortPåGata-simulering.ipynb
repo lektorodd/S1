{
 "cells": [
  {
   "cell_type": "markdown",
   "id": "545b42d4-1591-4ab0-86ba-439562024df7",
   "metadata": {},
   "source": [
    "# Kort på gata\n",
    "Sett at du finn eitt og eitt spelekort på gata. Kor mange kort må du finna før du har ein tilfeldig kortstokk? \n",
    "Forsøk på simulering av problemet. "
   ]
  },
  {
   "cell_type": "markdown",
   "id": "86aedf27-83d3-460d-9f43-e70ba4d260ea",
   "metadata": {},
   "source": [
    "## Trekke kort til ein har ein fullstendig kortstokk\n",
    "Det første me må laga er ei simulering som trekk eitt og eitt kort heilt til me har ein full kortstokk. Me må og ha kontroll på kor mange kort me har trekt.\n",
    "\n",
    "### Trekke tilfeldig kort:"
   ]
  },
  {
   "cell_type": "code",
   "execution_count": null,
   "id": "5ec6f7b6-8a80-4834-8b5d-0908d205716b",
   "metadata": {},
   "outputs": [],
   "source": []
  },
  {
   "cell_type": "markdown",
   "id": "98a2427f-6b69-42f6-8029-5b4bc2ab03d6",
   "metadata": {},
   "source": [
    "### Trekke tilfeldig kort - funksjon\n",
    "Lage ein \"trekke tilfeldig kort til full kortstokk\"-funksjon. "
   ]
  },
  {
   "cell_type": "code",
   "execution_count": null,
   "id": "911062da-e667-43c0-9a8f-9ca957645db9",
   "metadata": {},
   "outputs": [],
   "source": []
  },
  {
   "cell_type": "markdown",
   "id": "b08a6edf-9dca-4e7a-8e50-545ab8f1ae53",
   "metadata": {},
   "source": [
    "### Rekne ut snitt etter fleire forsøk\n",
    "\n",
    "Me er interessert i å sjå om antall kort ein må trekkja stabiliserer seg rundt eit tal, dersom me repeterer forsøket mange gongar:"
   ]
  },
  {
   "cell_type": "code",
   "execution_count": null,
   "id": "70e0c470-ca8d-45e6-b5ac-e78b25076815",
   "metadata": {},
   "outputs": [],
   "source": []
  }
 ],
 "metadata": {
  "kernelspec": {
   "display_name": "Python 3 (ipykernel)",
   "language": "python",
   "name": "python3"
  },
  "language_info": {
   "codemirror_mode": {
    "name": "ipython",
    "version": 3
   },
   "file_extension": ".py",
   "mimetype": "text/x-python",
   "name": "python",
   "nbconvert_exporter": "python",
   "pygments_lexer": "ipython3",
   "version": "3.8.12"
  }
 },
 "nbformat": 4,
 "nbformat_minor": 5
}
