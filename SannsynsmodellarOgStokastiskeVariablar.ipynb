{
 "cells": [
  {
   "cell_type": "markdown",
   "id": "115279f9-9d84-4277-a06f-fe706861abf9",
   "metadata": {},
   "source": [
    "# Sannsynsmodellar og stokastiske variablar\n",
    "\n",
    "Eit døme på ein sannsynsmodell som ikkje er uniform er ein modell for blodtypen til ein blodgjevar. Som du ser av tabellen under er sannsynet for dei ulike utfalla ikkje like store\n",
    "\n",
    "| Blodtype | Sannsyn |\n",
    "| ----- | ------ |\n",
    "| 0 | 0,40 |\n",
    "|A| 0,48 |\n",
    "|B| 0,08|\n",
    "|AB| 0,04|\n",
    "\n",
    "Data henta frå [NHI](nhi.no/forside) "
   ]
  },
  {
   "cell_type": "code",
   "execution_count": 44,
   "id": "556995c7-4158-4be1-a667-4dcfe58ab16b",
   "metadata": {},
   "outputs": [
    {
     "name": "stdout",
     "output_type": "stream",
     "text": [
      "['0' 'A' 'A' '0' 'A' 'A' 'A' 'A' 'A' '0']\n"
     ]
    }
   ],
   "source": [
    "import numpy as np\n",
    "\n",
    "blodtypar = [\"0\", \"A\", \"B\", \"AB\"]\n",
    "sannsyn = [0.40, 0.48, 0.08, 0.04]\n",
    "\n",
    "ti_pers = np.random.choice(blodtypar, p = sannsyn, size = 10)\n",
    "\n",
    "print(ti_pers)"
   ]
  },
  {
   "cell_type": "markdown",
   "id": "b837c081-f242-4fdc-a92b-e0caec8506a1",
   "metadata": {},
   "source": [
    "## utfordring: \n",
    "\n",
    "simuler blodtypen til 1000 personar og finn ut kor mange av dei som har blodtype AB"
   ]
  },
  {
   "cell_type": "markdown",
   "id": "e0970e07-2e98-459e-931c-e13ec9cdaa32",
   "metadata": {},
   "source": [
    "#### Forslag 1 "
   ]
  },
  {
   "cell_type": "code",
   "execution_count": 36,
   "id": "fa5f300c-627c-47dc-8663-097fad1de245",
   "metadata": {},
   "outputs": [
    {
     "name": "stdout",
     "output_type": "stream",
     "text": [
      "52\n"
     ]
    }
   ],
   "source": [
    "import numpy as np\n",
    "\n",
    "blodtypar = [\"0\", \"A\", \"B\", \"AB\"]\n",
    "sannsyn = [0.40, 0.48, 0.08, 0.04]\n",
    "\n",
    "tusen_pers = np.random.choice(blodtypar, p = sannsyn, size = 1000)\n",
    "\n",
    "typeAB = sum(tusen_pers == \"AB\")\n",
    "\n",
    "print(typeAB)"
   ]
  },
  {
   "cell_type": "markdown",
   "id": "95f28236-42c5-4217-a1fc-cc397b847f30",
   "metadata": {},
   "source": [
    "#### Forslag 2"
   ]
  },
  {
   "cell_type": "code",
   "execution_count": 34,
   "id": "08b40b00-75d7-46e2-b780-35b5474a011b",
   "metadata": {},
   "outputs": [
    {
     "name": "stdout",
     "output_type": "stream",
     "text": [
      "34\n"
     ]
    }
   ],
   "source": [
    "AB = 0\n",
    "\n",
    "for i in range(1000):\n",
    "    type = np.random.choice(blodtypar, p = sannsyn)\n",
    "    if type == \"AB\":\n",
    "        AB += 1         # <-- det samme som AB = AB + 1\n",
    "\n",
    "print(AB)"
   ]
  },
  {
   "cell_type": "markdown",
   "id": "fba3dce8-66c9-427e-b469-c1655b76230f",
   "metadata": {},
   "source": [
    "## Trille tre terningar\n",
    "\n",
    "Kva er sannsynet for at summen av tre terningar blir 9? \n",
    "(hint: må finna antall mulige og antall gunstige)\n",
    "\n",
    "I uniforme sannsynsmodellar har me at $$P(A) = \\frac{g}{m}$$ der $g$ er antall gunstige utfall for hendinga $A$, og $m$ er antall moglege utfall i forsøket."
   ]
  },
  {
   "cell_type": "code",
   "execution_count": 43,
   "id": "0e99c2b4-d722-4576-9ce6-2db2e0346c0a",
   "metadata": {},
   "outputs": [
    {
     "name": "stdout",
     "output_type": "stream",
     "text": [
      "Det er 216 moglege utfall\n",
      "Det er 25 gunstige utfall\n",
      "P(Summen er 9)= 0.1157\n"
     ]
    }
   ],
   "source": [
    "g = 0\n",
    "m = 0\n",
    "\n",
    "# pseudokode / algoritme:\n",
    "# trille tre terningar (ramse opp alle alternativa)\n",
    "# oppdatere m for kvart forsøk\n",
    "# oppdatere g dersom summen er 9\n",
    "# skrive ut resultatet\n",
    "\n",
    "for terning1 in range(1,7):\n",
    "    for terning2 in range(1,7):\n",
    "        for terning3 in range(1,7):\n",
    "            m += 1\n",
    "            \n",
    "            if terning1 + terning2 + terning3 == 9:\n",
    "                g +=1\n",
    "                \n",
    "print(\"Det er\", m, \"moglege utfall\")\n",
    "print(\"Det er\", g, \"gunstige utfall\")\n",
    "\n",
    "print(\"P(Summen er 9) =\", round(g/m, 4))"
   ]
  }
 ],
 "metadata": {
  "kernelspec": {
   "display_name": "Python 3 (ipykernel)",
   "language": "python",
   "name": "python3"
  },
  "language_info": {
   "codemirror_mode": {
    "name": "ipython",
    "version": 3
   },
   "file_extension": ".py",
   "mimetype": "text/x-python",
   "name": "python",
   "nbconvert_exporter": "python",
   "pygments_lexer": "ipython3",
   "version": "3.8.12"
  }
 },
 "nbformat": 4,
 "nbformat_minor": 5
}
