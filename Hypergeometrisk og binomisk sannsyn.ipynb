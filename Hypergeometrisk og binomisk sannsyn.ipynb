{
 "cells": [
  {
   "cell_type": "markdown",
   "id": "3f07e8d6-0323-4182-8283-27c89dcf847e",
   "metadata": {},
   "source": [
    "# Hypergeometrisk sannsyn\n",
    "\n",
    "Hypergeometrisk sannsynsfordeling: \n",
    "$$P(X=k) = \\frac{\\left( m \\atop k \\right)\\left( {n-m} \\atop {r-k} \\right)}{\\left( n \\atop r \\right)}$$\n",
    "\n",
    "### Døme\n",
    "\n",
    "Det ligg 13 fox og 7 nox i ei skål. Me trekk ut 5 drops. Kva er sannsynet for at me trekk ut <br> a) 4 fox <br> b) 5 fox <br> c) minst 4 fox"
   ]
  },
  {
   "cell_type": "code",
   "execution_count": null,
   "id": "ff18e234-41e0-462a-8e53-604baa07fb04",
   "metadata": {},
   "outputs": [],
   "source": []
  },
  {
   "cell_type": "markdown",
   "id": "41d51b8c-76c9-4d5f-8482-9bad1e8e491b",
   "metadata": {},
   "source": [
    "# Binomisk sannsyn\n",
    "\n",
    "Binomisk sannsynsfordeling:\n",
    "$$ P(X=k) = \\left( n \\atop k \\right) \\cdot p^k \\cdot (1-p)^{n-k} $$\n",
    "\n",
    "### Døme\n",
    "\n",
    "Me plantar 30 kaktusfrø. Sannsynet for at eit før spirer er $\\frac{4}{5}$. Kva er sannsynet for at minst 28 av kaktusfrøa spirer?"
   ]
  },
  {
   "cell_type": "code",
   "execution_count": null,
   "id": "fa588a6c-8d52-4f9d-b913-0662f21ece18",
   "metadata": {},
   "outputs": [],
   "source": []
  }
 ],
 "metadata": {
  "kernelspec": {
   "display_name": "Python 3 (ipykernel)",
   "language": "python",
   "name": "python3"
  },
  "language_info": {
   "codemirror_mode": {
    "name": "ipython",
    "version": 3
   },
   "file_extension": ".py",
   "mimetype": "text/x-python",
   "name": "python",
   "nbconvert_exporter": "python",
   "pygments_lexer": "ipython3",
   "version": "3.8.12"
  }
 },
 "nbformat": 4,
 "nbformat_minor": 5
}
