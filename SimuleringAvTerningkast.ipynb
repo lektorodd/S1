{
 "cells": [
  {
   "cell_type": "markdown",
   "id": "2bde797b-b192-4cce-8d8d-7411acbb2392",
   "metadata": {},
   "source": [
    "# Simulering av terningkast\n",
    "I dag skal  me simulera stokastiske forsøk. Me startar med terningkast"
   ]
  },
  {
   "cell_type": "markdown",
   "id": "e0ec9689-caa6-43c6-9db4-a3307160ef63",
   "metadata": {},
   "source": [
    "## Sannsynet for å trilla femmar\n",
    "Kva er sannsynet for å trilla 5 på ein terning? "
   ]
  },
  {
   "cell_type": "code",
   "execution_count": 16,
   "id": "15125f2f-1c71-460f-9f01-c0933a3e412a",
   "metadata": {},
   "outputs": [
    {
     "name": "stdout",
     "output_type": "stream",
     "text": [
      "Kast: 100\n",
      "Femmarar: 21\n",
      "Relativ frekvens: 0.21\n"
     ]
    }
   ],
   "source": [
    "# importerer dei biblioteka me treng\n",
    "import random\n",
    "import numpy as np\n",
    "\n",
    "# Kor mange terningar me skal kasta\n",
    "N = 100\n",
    "\n",
    "# Tom liste som heiter terningkast\n",
    "terningkast = []\n",
    "\n",
    "# Legg til (append) antall auger på terningen i lista N gongar (antall kast)\n",
    "for i in range(N):\n",
    "    terningkast.append(random.randint(1,6))\n",
    "\n",
    "# gjer om terningkast frå \"liste\" til \"array\"\n",
    "terningkast = np.array(terningkast)\n",
    "\n",
    "# finn antall element i lista som er 5\n",
    "n = sum(terningkast == 5)\n",
    "\n",
    "# reknar ut relativ frekvens\n",
    "relativ_frekvens = n/N\n",
    "\n",
    "# skriv ut resultatet\n",
    "print(\"Kast:\", N)\n",
    "print(\"Femmarar:\", n)\n",
    "print(\"Relativ frekvens:\", relativ_frekvens)"
   ]
  },
  {
   "cell_type": "markdown",
   "id": "c792f233-e03f-4a3f-b1cc-4a8bb47db107",
   "metadata": {
    "tags": []
   },
   "source": [
    "## Feilmargin\n",
    "\n",
    "Me simulerer eit stokastisk forsøk $N$ gongar og finn den relative frekvensen $r = \\frac{n}{N}$ for ei hending $A$. \n",
    "\n",
    "Då er $P(A)\\approx r$, og feilmarginen er  $$2\\cdot \\sqrt{\\frac{r(1-r)}{N}}$$"
   ]
  },
  {
   "cell_type": "markdown",
   "id": "9c3a9203-0f92-4246-b038-5ea3e9d3273d",
   "metadata": {
    "tags": []
   },
   "source": [
    "### Resulat av køyring (ca. 10 min)\n",
    "100 000 000 terningar resulterte i relativ frekvens på 0.16664166 som er ganske nær teoretisk sannsyn på $\\frac{1}{6}$"
   ]
  },
  {
   "cell_type": "code",
   "execution_count": 17,
   "id": "ffb7c497-1650-42a7-a8e9-4da08f19cf96",
   "metadata": {},
   "outputs": [
    {
     "name": "stdout",
     "output_type": "stream",
     "text": [
      "P(A) = 0.21 ± 0.079832\n",
      "Altså er P(A) mellom 0.130168 og 0.289832\n"
     ]
    }
   ],
   "source": [
    "r = 0.21\n",
    "N = 100\n",
    "feil = 1.96*np.sqrt((r*(1-r))/N)\n",
    "\n",
    "print(\"P(A) =\", round(r, 6), \"±\", round(feil,6))\n",
    "print(\"Altså er P(A) mellom\", round(r-feil, 6), \"og\", round(r+feil,6))"
   ]
  },
  {
   "cell_type": "code",
   "execution_count": 2,
   "id": "59250dcc-33c1-4a69-a82e-d90ddf7a1105",
   "metadata": {},
   "outputs": [
    {
     "name": "stdout",
     "output_type": "stream",
     "text": [
      "P(A) = 0.166642 ± 7.3e-05\n",
      "Altså er P(A) mellom 0.166569 og 0.166715\n"
     ]
    }
   ],
   "source": [
    "r = 0.16664166\n",
    "N = 100000000\n",
    "feil = 1.96*np.sqrt((r*(1-r))/N)\n",
    "\n",
    "print(\"P(A) =\", round(r, 6), \"±\", round(feil,6))\n",
    "print(\"Altså er P(A) mellom\", round(r-feil, 6), \"og\", round(r+feil,6))"
   ]
  },
  {
   "cell_type": "markdown",
   "id": "7fe16ef9-2de3-410d-a397-0c87e7620d39",
   "metadata": {},
   "source": [
    "## Trilling og plotting\n",
    "\n",
    "Trillar terningar og plottar samanhengen mellom antall kast ($N$) og (kumulativ) relativ frekvens. "
   ]
  },
  {
   "cell_type": "code",
   "execution_count": 15,
   "id": "df67d24b-4c79-4af8-ac0f-d8b198b6190d",
   "metadata": {},
   "outputs": [
    {
     "data": {
      "image/png": "[encoded data removed]",
      "text/plain": [
       "<Figure size 864x504 with 1 Axes>"
      ]
     },
     "metadata": {
      "needs_background": "light"
     },
     "output_type": "display_data"
    }
   ],
   "source": [
    "import numpy as np\n",
    "import random\n",
    "import matplotlib.pyplot as plt\n",
    "\n",
    "antall_kast = 100000\n",
    "terningkast = []\n",
    "\n",
    "for i in range(antall_kast):\n",
    "    terningkast.append(random.randint(1,6))\n",
    "\n",
    "terningkast = np.array(terningkast)\n",
    "n = np.cumsum(terningkast == 5)      # kumulativ sum (antall 5-arar til no)\n",
    "N = np.arange(1, antall_kast + 1)\n",
    "rel_frek = n/N\n",
    "\n",
    "plt.figure(figsize = (12,7))         # bestemmer figurstørrelsen (12 brei og 7 høg)\n",
    "plt.hlines(1/6, 0, antall_kast, 'r') # horisontal linje, y=1/6, startar i x=0 og sluttar i x=antall kast, 'r' -> raud\n",
    "plt.plot(N, rel_frek)                # N på x-aksen og relativ frekvens på y-aksen\n",
    "plt.xlabel(\"Antall kast\")\n",
    "plt.ylabel(\"Relativ frekvens\")\n",
    "plt.ylim(0,0.35)\n",
    "plt.title(\"Simulering av terningkast\")\n",
    "plt.show()"
   ]
  },
  {
   "cell_type": "code",
   "execution_count": null,
   "id": "54664d58-0791-45e3-a9b8-5669a09b8a92",
   "metadata": {},
   "outputs": [],
   "source": []
  }
 ],
 "metadata": {
  "kernelspec": {
   "display_name": "Python 3 (ipykernel)",
   "language": "python",
   "name": "python3"
  },
  "language_info": {
   "codemirror_mode": {
    "name": "ipython",
    "version": 3
   },
   "file_extension": ".py",
   "mimetype": "text/x-python",
   "name": "python",
   "nbconvert_exporter": "python",
   "pygments_lexer": "ipython3",
   "version": "3.8.12"
  }
 },
 "nbformat": 4,
 "nbformat_minor": 5
}
