{
 "cells": [
  {
   "cell_type": "markdown",
   "id": "07bd865e-d9d2-47f5-b9eb-314b9ea9dda9",
   "metadata": {},
   "source": [
    "# Simulering"
   ]
  },
  {
   "cell_type": "markdown",
   "id": "3f07e8d6-0323-4182-8283-27c89dcf847e",
   "metadata": {},
   "source": [
    "## Hypergeometrisk sannsyn\n",
    "\n",
    "Hypergeometrisk sannsynsfordeling: \n",
    "\n",
    "$$P(X=k) = \\frac{\\left( m \\atop k \\right)\\left( {n-m} \\atop {r-k} \\right)}{\\left( n \\atop r \\right)}$$\n",
    "\n",
    "### Døme\n",
    "\n",
    "Det ligg 13 fox og 7 nox i ei skål. Me trekk ut 5 drops. Kva er sannsynet for at me trekk ut <br> a) 4 fox <br> b) 5 fox <br> c) minst 4 fox"
   ]
  },
  {
   "cell_type": "code",
   "execution_count": 1,
   "id": "ff18e234-41e0-462a-8e53-604baa07fb04",
   "metadata": {},
   "outputs": [
    {
     "name": "stdout",
     "output_type": "stream",
     "text": [
      "a) 32.3 %\n",
      "b) 8.3 %\n",
      "c) 40.6 %\n"
     ]
    }
   ],
   "source": [
    "import numpy as np\n",
    "\n",
    "ngood = 13    # fox   (m)\n",
    "nbad = 7      # nox   (n-m)\n",
    "utval = 5     # trekk ut 5 stk  (r)\n",
    "N = 1000000   # antall gongar forsøket vert utført\n",
    "\n",
    "# a) 4 fox\n",
    "X = 4\n",
    "sannsyn = sum(np.random.hypergeometric(ngood, nbad, utval, N) == X) / N\n",
    "print(\"a)\", round(sannsyn*100, 1) ,\"%\")\n",
    "\n",
    "# b) 5 fox\n",
    "X = 5\n",
    "sannsyn = sum(np.random.hypergeometric(ngood, nbad, utval, N) == X) / N\n",
    "print(\"b)\", round(sannsyn*100, 1) ,\"%\")\n",
    "\n",
    "# c) minst 4 fox\n",
    "X = 4\n",
    "sannsyn = sum(np.random.hypergeometric(ngood, nbad, utval, N) >= X) / N\n",
    "print(\"c)\", round(sannsyn*100, 1) ,\"%\")"
   ]
  },
  {
   "cell_type": "markdown",
   "id": "f5cd3ec7-5807-44ce-9580-4d0ac72ec779",
   "metadata": {
    "tags": []
   },
   "source": [
    "## Binomisk sannsyn"
   ]
  },
  {
   "cell_type": "markdown",
   "id": "aee10b73-b2b7-47bc-8e8c-630162aace0f",
   "metadata": {
    "tags": []
   },
   "source": [
    "Binomisk sannsynsfordeling:\n",
    "$$ P(X=k) = \\left( n \\atop k \\right) \\cdot p^k \\cdot (1-p)^{n-k} $$\n",
    "\n",
    "### Døme\n",
    "\n",
    "Me plantar 30 kaktusfrø. Sannsynet for at eit før spirer er $\\frac{4}{5}$. Kva er sannsynet for at minst 28 av kaktusfrøa spirer?"
   ]
  },
  {
   "cell_type": "code",
   "execution_count": null,
   "id": "fa588a6c-8d52-4f9d-b913-0662f21ece18",
   "metadata": {},
   "outputs": [],
   "source": []
  }
 ],
 "metadata": {
  "kernelspec": {
   "display_name": "Python 3 (ipykernel)",
   "language": "python",
   "name": "python3"
  },
  "language_info": {
   "codemirror_mode": {
    "name": "ipython",
    "version": 3
   },
   "file_extension": ".py",
   "mimetype": "text/x-python",
   "name": "python",
   "nbconvert_exporter": "python",
   "pygments_lexer": "ipython3",
   "version": "3.8.12"
  }
 },
 "nbformat": 4,
 "nbformat_minor": 5
}
