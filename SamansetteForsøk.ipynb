{
 "cells": [
  {
   "cell_type": "markdown",
   "id": "f81cae2d-b0a4-43be-8135-9935b088d01a",
   "metadata": {},
   "source": [
    "# Samansette forsøk\n",
    "\n",
    "Me skal sjå på eit døme med ei skål med Twist. Der er det 7 Banan-twist og 3 Daim-twist i ei skål. Me skal simulera eit uttrekk av 2 twistbitar, og sjå kva sannsynet for Banan på første og Banan på andre trekk blir. "
   ]
  },
  {
   "cell_type": "markdown",
   "id": "1171ed8c-cf2d-43a8-8372-2a24846d40ff",
   "metadata": {},
   "source": [
    "Teoretisk sannsyn for banan - banan\n",
    "\n",
    "**Med tilbakelegging** $P(BB)=0,490$\n",
    "\n",
    "**Utan tilbakelegging** $P(BB) \\approx 0,467$"
   ]
  },
  {
   "cell_type": "code",
   "execution_count": 22,
   "id": "5882d3b6-8c36-4a53-a484-36da24d13b21",
   "metadata": {},
   "outputs": [
    {
     "name": "stdout",
     "output_type": "stream",
     "text": [
      "['Banan', 'Banan', 'Banan', 'Banan', 'Banan', 'Banan', 'Banan', 'Daim', 'Daim', 'Daim']\n"
     ]
    }
   ],
   "source": [
    "import numpy as np\n",
    "\n",
    "N = 100000\n",
    "twistskål = [\"Banan\"]*7 + [\"Daim\"]*3\n",
    "\n",
    "print(twistskål)"
   ]
  },
  {
   "cell_type": "markdown",
   "id": "d315d669-97ce-4560-9d84-59e102ed450c",
   "metadata": {},
   "source": [
    "## Med tilbakelegging"
   ]
  },
  {
   "cell_type": "code",
   "execution_count": 17,
   "id": "b97cc1c8-4efe-4188-a1bb-aa5368a4ef61",
   "metadata": {},
   "outputs": [
    {
     "name": "stdout",
     "output_type": "stream",
     "text": [
      "0.49063\n"
     ]
    }
   ],
   "source": [
    "BB = 0\n",
    "\n",
    "for i in range(N):\n",
    "    plukka = np.random.choice(twistskål, size = 2)\n",
    "    if ((plukka[0] == \"Banan\") and (plukka[1] == \"Banan\")):\n",
    "        BB += 1\n",
    "\n",
    "rel_frek = BB / N\n",
    "\n",
    "print(rel_frek)"
   ]
  },
  {
   "cell_type": "code",
   "execution_count": 12,
   "id": "4cd9dbca-e292-4ae9-b730-a598d7f5f14f",
   "metadata": {},
   "outputs": [
    {
     "name": "stdout",
     "output_type": "stream",
     "text": [
      "0.48867\n"
     ]
    }
   ],
   "source": [
    "BB = 0\n",
    "\n",
    "for i in range(N):\n",
    "    plukka = np.random.choice(twistskål, size = 2)\n",
    "    BB += int((plukka[0] == \"Banan\") and (plukka[1] == \"Banan\"))\n",
    "    \n",
    "rel_frek = BB / N\n",
    "\n",
    "print(rel_frek)"
   ]
  },
  {
   "cell_type": "markdown",
   "id": "b9473340-6610-466c-9dbd-93cc7cf6cba6",
   "metadata": {},
   "source": [
    "## Uten tilbakelegging"
   ]
  },
  {
   "cell_type": "code",
   "execution_count": 23,
   "id": "fadef1f1-b752-4720-8897-948a20cc1caa",
   "metadata": {},
   "outputs": [
    {
     "name": "stdout",
     "output_type": "stream",
     "text": [
      "0.46718\n"
     ]
    }
   ],
   "source": [
    "BB = 0\n",
    "\n",
    "for i in range(N):\n",
    "    plukka = np.random.choice(twistskål, size = 2, replace = False)\n",
    "    if ((plukka[0] == \"Banan\") and (plukka[1] == \"Banan\")):\n",
    "        BB += 1\n",
    "\n",
    "rel_frek = BB / N\n",
    "\n",
    "print(rel_frek)"
   ]
  },
  {
   "cell_type": "code",
   "execution_count": null,
   "id": "84ceff7e-8f12-4468-9132-7d3e9e4327f3",
   "metadata": {},
   "outputs": [],
   "source": []
  }
 ],
 "metadata": {
  "kernelspec": {
   "display_name": "Python 3 (ipykernel)",
   "language": "python",
   "name": "python3"
  },
  "language_info": {
   "codemirror_mode": {
    "name": "ipython",
    "version": 3
   },
   "file_extension": ".py",
   "mimetype": "text/x-python",
   "name": "python",
   "nbconvert_exporter": "python",
   "pygments_lexer": "ipython3",
   "version": "3.8.12"
  }
 },
 "nbformat": 4,
 "nbformat_minor": 5
}
