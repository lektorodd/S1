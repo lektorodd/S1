{
 "cells": [
  {
   "cell_type": "markdown",
   "id": "a379aba1-203a-4856-861d-088ad45ae492",
   "metadata": {},
   "source": [
    "# Kombinatorikk"
   ]
  },
  {
   "cell_type": "markdown",
   "id": "27e326c4-97e2-4836-bffb-52d9d07d19fd",
   "metadata": {
    "tags": []
   },
   "source": [
    "## Ordna utval med tilbakelegging. \n",
    "\n",
    "Trekk eit utval på $r$ element på ein populasjon på $n$.\n",
    "\n",
    "Moglege kombinasjonar er då $$ n\\cdot n \\cdot n \\cdot \\ldots \\cdot n = n^r $$\n",
    "\n",
    "**Ordna utval:** rekkefølgen er viktig <br>\n",
    "**Med tilbakelegging:** kvart element i populasjonen kan trekkast fleire gongar. "
   ]
  },
  {
   "cell_type": "code",
   "execution_count": 8,
   "id": "4404547d-0477-430d-acb2-85bb7e9e8d52",
   "metadata": {},
   "outputs": [
    {
     "name": "stdin",
     "output_type": "stream",
     "text": [
      "Kor stor er populasjonen? n =  4\n",
      "Kor stort er utvalet? r =  3\n"
     ]
    },
    {
     "name": "stdout",
     "output_type": "stream",
     "text": [
      "Det er 64 moglege kombinasjonar.\n"
     ]
    }
   ],
   "source": [
    "n = int(input(\"Kor stor er populasjonen? n = \"))\n",
    "r = int(input(\"Kor stort er utvalet? r = \"))\n",
    "\n",
    "komb = n**r\n",
    "    \n",
    "print(\"Det er\",komb, \"moglege kombinasjonar.\")"
   ]
  },
  {
   "cell_type": "markdown",
   "id": "01af091f-b998-4728-b634-a0c8d454a029",
   "metadata": {
    "tags": []
   },
   "source": [
    "## Ordna utval utan tilbakelegging. \n",
    "\n",
    "Trekk eit utval på $r$ element på ein populasjon på $n$. \n",
    "\n",
    "Moglege kombinasjonar er då $$ _n P _r  = n\\cdot (n-1) \\cdot (n-2) \\cdot \\ldots \\cdot (n-r+1)$$\n",
    "\n",
    "**Ordna utval:** rekkefølgen er viktig <br>\n",
    "**Utan tilbakelegging:** når eit element er trekt kan det ikkje trekkast igjen"
   ]
  },
  {
   "cell_type": "code",
   "execution_count": 4,
   "id": "d9a879b1-c808-4c10-bce3-6416f4de9577",
   "metadata": {},
   "outputs": [
    {
     "name": "stdin",
     "output_type": "stream",
     "text": [
      "Kor stor er populasjonen? n =  5\n",
      "Kor stort er utvalet? r =  3\n"
     ]
    },
    {
     "name": "stdout",
     "output_type": "stream",
     "text": [
      "Det er 60 moglege kombinasjonar.\n"
     ]
    }
   ],
   "source": [
    "n = int(input(\"Kor stor er populasjonen? n = \"))\n",
    "r = int(input(\"Kor stort er utvalet? r = \"))\n",
    "\n",
    "komb = 1\n",
    "\n",
    "for i in range(r):\n",
    "    komb *= (n-i)\n",
    "    \n",
    "print(\"Det er\",komb, \"moglege kombinasjonar.\")"
   ]
  },
  {
   "cell_type": "markdown",
   "id": "5151ca4a-375c-4975-a217-df9bc8bfaab2",
   "metadata": {},
   "source": [
    "### Fakultet \n",
    "\n",
    "Når $n = r$ når me ser på ordna utval utan tilbakelegging gjer me eit utval som er like stort som populasjonen. I praksis vil det då bli kor mange forskjellige måtar me kan ordna populasjonen. \n",
    "\n",
    "Trekk eit utval på $n$ element på ein populasjon på $n$. \n",
    "\n",
    "Moglege kombinasjonar er då $$ _n P _n  = n\\cdot (n-1) \\cdot (n-2) \\cdot \\ldots \\cdot 2\\cdot 1$$\n",
    "\n",
    "Dermed får me $$ _n P _n = n! = 1 \\cdot 2 \\cdot \\ldots \\cdot (n-2)\\cdot (n-1) \\cdot n $$\n",
    "\n",
    "$n!$ les me som _n fakultet_ og er produktet av alle dei naturlege tala frå og med $1$ til og med $n$"
   ]
  },
  {
   "cell_type": "code",
   "execution_count": 14,
   "id": "85cdbfa3-af29-45b9-987b-e4f3887fc168",
   "metadata": {},
   "outputs": [
    {
     "name": "stdin",
     "output_type": "stream",
     "text": [
      "Kor stor er populasjonen? n =  24\n"
     ]
    },
    {
     "name": "stdout",
     "output_type": "stream",
     "text": [
      "Dei 24 elementa kan orndast på 620448401733239439360000 måtar.\n"
     ]
    }
   ],
   "source": [
    "n = int(input(\"Kor stor er populasjonen? n = \"))\n",
    "\n",
    "komb = 1\n",
    "for i in range(n):\n",
    "    komb *= (n-i)\n",
    "    \n",
    "print(\"Dei\", n, \"elementa kan orndast på\", komb, \"måtar.\")"
   ]
  },
  {
   "cell_type": "markdown",
   "id": "890bda2d-106b-41d1-8dc2-5d08a9146b45",
   "metadata": {},
   "source": [
    "## Uordna utval\n",
    "\n",
    "Binomialkoeffesient, $_n C_r$, er måten me kan trekka eit utval på $r$ frå ein populasjon på $n$ når rekkefølgen ikkje er viktig. \n",
    "$$ \\left({n}\\atop{r}\\right) = \\frac{_n P_r}{r!} = \\frac{n!}{r!\\cdot (n-r)!}$$\n",
    "\n",
    "Me kan rekna denne ut i Python med å bruka SciPy-biblioteket:"
   ]
  },
  {
   "cell_type": "code",
   "execution_count": 3,
   "id": "d32947cd-e33a-4983-a264-b98b66b7a355",
   "metadata": {},
   "outputs": [
    {
     "name": "stdout",
     "output_type": "stream",
     "text": [
      "nCr = 10\n"
     ]
    }
   ],
   "source": [
    "import scipy.special as sc\n",
    "\n",
    "n = 5\n",
    "r = 3\n",
    "\n",
    "# nCr - uordna utval\n",
    "uordna = sc.comb(n, r, exact = True)\n",
    "print(\"nCr =\",uordna)"
   ]
  },
  {
   "cell_type": "markdown",
   "id": "7ffb516e-590e-4f89-a6aa-fccebe8c75dd",
   "metadata": {},
   "source": [
    "## SciPy til ordna utval og fakultet"
   ]
  },
  {
   "cell_type": "code",
   "execution_count": 2,
   "id": "f1b1b46c-efe9-433d-b3c6-2f7cede79c58",
   "metadata": {},
   "outputs": [
    {
     "name": "stdout",
     "output_type": "stream",
     "text": [
      "n! = 120\n",
      "nPr = 60\n"
     ]
    }
   ],
   "source": [
    "import scipy.special as sc\n",
    "\n",
    "n = 5\n",
    "r = 3\n",
    "\n",
    "# n! - fakultet\n",
    "fakultet = sc.factorial(n, exact = True)\n",
    "print(\"n! =\",fakultet)\n",
    "\n",
    "# nPr - permutasjonar - ordna utval\n",
    "ordna = sc.perm(n, r, exact = True) # nøyaktig, ikkje tilnærma...\n",
    "print(\"nPr =\",ordna)"
   ]
  }
 ],
 "metadata": {
  "kernelspec": {
   "display_name": "Python 3 (ipykernel)",
   "language": "python",
   "name": "python3"
  },
  "language_info": {
   "codemirror_mode": {
    "name": "ipython",
    "version": 3
   },
   "file_extension": ".py",
   "mimetype": "text/x-python",
   "name": "python",
   "nbconvert_exporter": "python",
   "pygments_lexer": "ipython3",
   "version": "3.8.12"
  }
 },
 "nbformat": 4,
 "nbformat_minor": 5
}
